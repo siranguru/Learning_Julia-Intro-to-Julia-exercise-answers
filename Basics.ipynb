{
 "cells": [
  {
   "cell_type": "code",
   "execution_count": 1,
   "id": "f974a680",
   "metadata": {},
   "outputs": [
    {
     "name": "stdout",
     "output_type": "stream",
     "text": [
      "Hello World!!, I am SiranGuru starting to work on Julia Programming\n"
     ]
    }
   ],
   "source": [
    "println(\"Hello World!!, I am SiranGuru starting to work on Julia Programming\")"
   ]
  },
  {
   "cell_type": "code",
   "execution_count": 12,
   "id": "65a46b7b",
   "metadata": {},
   "outputs": [
    {
     "name": "stdout",
     "output_type": "stream",
     "text": [
      "Hello world"
     ]
    }
   ],
   "source": [
    "print(\"Hello world\")"
   ]
  },
  {
   "cell_type": "markdown",
   "id": "a7de6ab1",
   "metadata": {},
   "source": [
    "The ln is to denote printing onto a new line"
   ]
  },
  {
   "cell_type": "code",
   "execution_count": 13,
   "id": "bedf3d9f",
   "metadata": {},
   "outputs": [
    {
     "name": "stdout",
     "output_type": "stream",
     "text": [
      "I'm excited to learn Julia!\n"
     ]
    }
   ],
   "source": [
    "println(\"I'm excited to learn Julia!\")"
   ]
  },
  {
   "cell_type": "code",
   "execution_count": 14,
   "id": "c7de30de",
   "metadata": {},
   "outputs": [
    {
     "data": {
      "text/plain": [
       "Int64"
      ]
     },
     "execution_count": 14,
     "metadata": {},
     "output_type": "execute_result"
    }
   ],
   "source": [
    "my_answer = 42\n",
    "typeof(my_answer)"
   ]
  },
  {
   "cell_type": "code",
   "execution_count": 15,
   "id": "e4b66cf7",
   "metadata": {},
   "outputs": [
    {
     "data": {
      "text/plain": [
       "Float64"
      ]
     },
     "execution_count": 15,
     "metadata": {},
     "output_type": "execute_result"
    }
   ],
   "source": [
    "my_pi = 3.14\n",
    "typeof(my_pi)"
   ]
  },
  {
   "cell_type": "code",
   "execution_count": 17,
   "id": "2043164a",
   "metadata": {},
   "outputs": [
    {
     "data": {
      "text/plain": [
       "String"
      ]
     },
     "execution_count": 17,
     "metadata": {},
     "output_type": "execute_result"
    }
   ],
   "source": [
    "😸 = \"smiley cat\"\n",
    "typeof(😸)"
   ]
  },
  {
   "cell_type": "markdown",
   "id": "450f3d3d",
   "metadata": {},
   "source": [
    " To type in the smily emoji follow the below mentioned instructions\n",
    " \\:smi + tab -----> then select the emoji ----> press enter -----> tab + enter (to convert the mentioned statement to the emoji) to complete       \n",
    " "
   ]
  },
  {
   "cell_type": "code",
   "execution_count": 18,
   "id": "cd21e198",
   "metadata": {},
   "outputs": [],
   "source": [
    "# to write a comment"
   ]
  },
  {
   "cell_type": "code",
   "execution_count": 21,
   "id": "4f52efd5",
   "metadata": {},
   "outputs": [
    {
     "data": {
      "text/plain": [
       "1"
      ]
     },
     "execution_count": 21,
     "metadata": {},
     "output_type": "execute_result"
    }
   ],
   "source": [
    "😸 = 1# we can re assign the variable to a new value"
   ]
  },
  {
   "cell_type": "code",
   "execution_count": 22,
   "id": "2d7f9cf6",
   "metadata": {},
   "outputs": [
    {
     "data": {
      "text/plain": [
       "Int64"
      ]
     },
     "execution_count": 22,
     "metadata": {},
     "output_type": "execute_result"
    }
   ],
   "source": [
    "typeof(😸)"
   ]
  },
  {
   "cell_type": "code",
   "execution_count": 24,
   "id": "a9b27a50",
   "metadata": {},
   "outputs": [
    {
     "data": {
      "text/plain": [
       "true"
      ]
     },
     "execution_count": 24,
     "metadata": {},
     "output_type": "execute_result"
    }
   ],
   "source": [
    "🥚 = 0\n",
    "😄 = 1\n",
    "🥚 + 😄 == 😸"
   ]
  },
  {
   "cell_type": "code",
   "execution_count": 26,
   "id": "dd64d309",
   "metadata": {},
   "outputs": [],
   "source": [
    "#= \n",
    "\n",
    "you can write multi line comments\n",
    "use the '#= =#' sequence\n",
    "\n",
    "=#"
   ]
  },
  {
   "cell_type": "markdown",
   "id": "04677caa",
   "metadata": {},
   "source": [
    "Syntax for basic math"
   ]
  },
  {
   "cell_type": "code",
   "execution_count": 27,
   "id": "40af6284",
   "metadata": {},
   "outputs": [
    {
     "data": {
      "text/plain": [
       "10"
      ]
     },
     "execution_count": 27,
     "metadata": {},
     "output_type": "execute_result"
    }
   ],
   "source": [
    "sum = 3+7"
   ]
  },
  {
   "cell_type": "code",
   "execution_count": 28,
   "id": "59437421",
   "metadata": {},
   "outputs": [
    {
     "data": {
      "text/plain": [
       "7"
      ]
     },
     "execution_count": 28,
     "metadata": {},
     "output_type": "execute_result"
    }
   ],
   "source": [
    "difference = 10 - 3"
   ]
  },
  {
   "cell_type": "code",
   "execution_count": 29,
   "id": "b762dcb5",
   "metadata": {},
   "outputs": [
    {
     "data": {
      "text/plain": [
       "100"
      ]
     },
     "execution_count": 29,
     "metadata": {},
     "output_type": "execute_result"
    }
   ],
   "source": [
    "product = 20*5"
   ]
  },
  {
   "cell_type": "code",
   "execution_count": 30,
   "id": "2ddd8432",
   "metadata": {},
   "outputs": [
    {
     "data": {
      "text/plain": [
       "10.0"
      ]
     },
     "execution_count": 30,
     "metadata": {},
     "output_type": "execute_result"
    }
   ],
   "source": [
    "quotient = 100/10"
   ]
  },
  {
   "cell_type": "code",
   "execution_count": 31,
   "id": "16d5be5c",
   "metadata": {},
   "outputs": [
    {
     "data": {
      "text/plain": [
       "100"
      ]
     },
     "execution_count": 31,
     "metadata": {},
     "output_type": "execute_result"
    }
   ],
   "source": [
    "power = 10^2"
   ]
  },
  {
   "cell_type": "code",
   "execution_count": 32,
   "id": "ea44fb51",
   "metadata": {},
   "outputs": [
    {
     "data": {
      "text/plain": [
       "1"
      ]
     },
     "execution_count": 32,
     "metadata": {},
     "output_type": "execute_result"
    }
   ],
   "source": [
    "modulus = 101%2"
   ]
  },
  {
   "cell_type": "markdown",
   "id": "3408fadd",
   "metadata": {},
   "source": [
    "Exercise"
   ]
  },
  {
   "cell_type": "code",
   "execution_count": 33,
   "id": "568acc2f",
   "metadata": {},
   "outputs": [
    {
     "data": {
      "text/plain": [
       "365.0"
      ]
     },
     "execution_count": 33,
     "metadata": {},
     "output_type": "execute_result"
    }
   ],
   "source": [
    "# https://docs.julialang.org/en/v1/base/base/#Base.convert\n",
    "days = 365\n",
    "days_float = convert(Float64, days)"
   ]
  },
  {
   "cell_type": "code",
   "execution_count": 39,
   "id": "fc8bbf83",
   "metadata": {},
   "outputs": [
    {
     "ename": "LoadError",
     "evalue": "MethodError: \u001b[0mCannot `convert` an object of type \u001b[92mString\u001b[39m\u001b[0m to an object of type \u001b[91mInt64\u001b[39m\n\n\u001b[0mClosest candidates are:\n\u001b[0m  convert(::Type{T}, \u001b[91m::T\u001b[39m) where T<:Number\n\u001b[0m\u001b[90m   @\u001b[39m \u001b[90mBase\u001b[39m \u001b[90m\u001b[4mnumber.jl:6\u001b[24m\u001b[39m\n\u001b[0m  convert(::Type{T}, \u001b[91m::T\u001b[39m) where T\n\u001b[0m\u001b[90m   @\u001b[39m \u001b[90mBase\u001b[39m \u001b[90m\u001b[4mBase.jl:84\u001b[24m\u001b[39m\n\u001b[0m  convert(::Type{T}, \u001b[91m::AbstractChar\u001b[39m) where T<:Number\n\u001b[0m\u001b[90m   @\u001b[39m \u001b[90mBase\u001b[39m \u001b[90m\u001b[4mchar.jl:185\u001b[24m\u001b[39m\n\u001b[0m  ...\n",
     "output_type": "error",
     "traceback": [
      "MethodError: \u001b[0mCannot `convert` an object of type \u001b[92mString\u001b[39m\u001b[0m to an object of type \u001b[91mInt64\u001b[39m\n\n\u001b[0mClosest candidates are:\n\u001b[0m  convert(::Type{T}, \u001b[91m::T\u001b[39m) where T<:Number\n\u001b[0m\u001b[90m   @\u001b[39m \u001b[90mBase\u001b[39m \u001b[90m\u001b[4mnumber.jl:6\u001b[24m\u001b[39m\n\u001b[0m  convert(::Type{T}, \u001b[91m::T\u001b[39m) where T\n\u001b[0m\u001b[90m   @\u001b[39m \u001b[90mBase\u001b[39m \u001b[90m\u001b[4mBase.jl:84\u001b[24m\u001b[39m\n\u001b[0m  convert(::Type{T}, \u001b[91m::AbstractChar\u001b[39m) where T<:Number\n\u001b[0m\u001b[90m   @\u001b[39m \u001b[90mBase\u001b[39m \u001b[90m\u001b[4mchar.jl:185\u001b[24m\u001b[39m\n\u001b[0m  ...\n",
      "",
      "Stacktrace:",
      " [1] top-level scope",
      "   @ In[39]:1"
     ]
    }
   ],
   "source": [
    "convert(Int64, \"1\")"
   ]
  },
  {
   "cell_type": "code",
   "execution_count": 41,
   "id": "ad6a166a",
   "metadata": {},
   "outputs": [
    {
     "data": {
      "text/plain": [
       "49"
      ]
     },
     "execution_count": 41,
     "metadata": {},
     "output_type": "execute_result"
    }
   ],
   "source": [
    "convert(Int64, '1')"
   ]
  },
  {
   "cell_type": "code",
   "execution_count": 40,
   "id": "59367b39",
   "metadata": {},
   "outputs": [
    {
     "data": {
      "text/plain": [
       "1"
      ]
     },
     "execution_count": 40,
     "metadata": {},
     "output_type": "execute_result"
    }
   ],
   "source": [
    "parse(Int64, \"1\")"
   ]
  },
  {
   "cell_type": "code",
   "execution_count": 42,
   "id": "cd499746",
   "metadata": {},
   "outputs": [],
   "source": [
    "#https://docs.julialang.org/en/v1/base/numbers/#Base.parse"
   ]
  },
  {
   "cell_type": "code",
   "execution_count": null,
   "id": "f739b7d9",
   "metadata": {},
   "outputs": [],
   "source": []
  }
 ],
 "metadata": {
  "kernelspec": {
   "display_name": "Julia 1.10.3",
   "language": "julia",
   "name": "julia-1.10"
  },
  "language_info": {
   "file_extension": ".jl",
   "mimetype": "application/julia",
   "name": "julia",
   "version": "1.10.3"
  }
 },
 "nbformat": 4,
 "nbformat_minor": 5
}
